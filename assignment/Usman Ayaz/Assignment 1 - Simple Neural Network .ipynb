{
 "cells": [
  {
   "cell_type": "markdown",
   "metadata": {
    "colab_type": "text",
    "id": "view-in-github"
   },
   "source": [
    "<a href=\"https://colab.research.google.com/github/https-deeplearning-ai/tensorflow-1-public/blob/adding_C1/C1/W1/assignment/C1_W1_Assignment.ipynb\" target=\"_parent\"><img src=\"https://colab.research.google.com/assets/colab-badge.svg\" alt=\"Open In Colab\"/></a>"
   ]
  },
  {
   "cell_type": "code",
   "execution_count": null,
   "metadata": {
    "id": "ih1yAdlNBuGQ"
   },
   "outputs": [],
   "source": [
    "#@title Licensed under the Apache License, Version 2.0 (the \"License\");\n",
    "# you may not use this file except in compliance with the License.\n",
    "# You may obtain a copy of the License at\n",
    "#\n",
    "# https://www.apache.org/licenses/LICENSE-2.0\n",
    "#\n",
    "# Unless required by applicable law or agreed to in writing, software\n",
    "# distributed under the License is distributed on an \"AS IS\" BASIS,\n",
    "# WITHOUT WARRANTIES OR CONDITIONS OF ANY KIND, either express or implied.\n",
    "# See the License for the specific language governing permissions and\n",
    "# limitations under the License."
   ]
  },
  {
   "cell_type": "markdown",
   "metadata": {
    "id": "mw2VBrBcgvGa"
   },
   "source": [
    "In this exercise you'll try to build a neural network that predicts the price of a house according to a simple formula.\n",
    "\n",
    "So, imagine if house pricing was as easy as a house costs 50k + 50k per bedroom, so that a 1 bedroom house costs 100k, a 2 bedroom house costs 150k etc.\n",
    "\n",
    "How would you create a neural network that learns this relationship so that it would predict a 7 bedroom house as costing close to 400k etc.\n",
    "\n",
    "Hint: Your network might work better if you scale the house price down. You don't have to give the answer 400...it might be better to create something that predicts the number 4, and then your answer is in the 'hundreds of thousands' etc.\n",
    "\n",
    "(**Note:** You can run the notebook using TensorFlow 2.5.0)"
   ]
  },
  {
   "cell_type": "code",
   "execution_count": null,
   "metadata": {
    "id": "FZnOFI6lBuGS"
   },
   "outputs": [],
   "source": [
    "#!pip install tensorflow==2.5.0"
   ]
  },
  {
   "cell_type": "code",
   "execution_count": 1,
   "metadata": {
    "id": "PUNO2E6SeURH"
   },
   "outputs": [],
   "source": [
    "import tensorflow as tf\n",
    "import numpy as np\n",
    "from tensorflow import keras"
   ]
  },
  {
   "cell_type": "code",
   "execution_count": 14,
   "metadata": {
    "id": "9Nkk2wAKBuGT"
   },
   "outputs": [],
   "source": [
    "# GRADED FUNCTION: house_model\n",
    "def house_model(y_new):\n",
    "    xs = np.array([1, 2, 3, 4, 5, 6])     #house per bedroom\n",
    "       \n",
    "    ys = np.array([1, 1.5, 2, 2.5, 3, 3.5])    # Rescale the price dividing the price by 100,000\n",
    "    \n",
    "    model = tf.keras.Sequential([keras.layers.Dense(units = 1, input_shape = [1])])\n",
    "    model.compile(optimizer = 'sgd', loss = 'mean_squared_error')\n",
    "    model.fit(xs, ys, epochs = 35)\n",
    "    return model.predict(y_new)[0]"
   ]
  },
  {
   "cell_type": "code",
   "execution_count": 15,
   "metadata": {
    "id": "0E1Fmlx0BuGT"
   },
   "outputs": [
    {
     "name": "stdout",
     "output_type": "stream",
     "text": [
      "Epoch 1/35\n",
      "1/1 [==============================] - 0s 121ms/step - loss: 62.3610\n",
      "Epoch 2/35\n",
      "1/1 [==============================] - 0s 9ms/step - loss: 28.8628\n",
      "Epoch 3/35\n",
      "1/1 [==============================] - 0s 2ms/step - loss: 13.3588\n",
      "Epoch 4/35\n",
      "1/1 [==============================] - 0s 4ms/step - loss: 6.1831\n",
      "Epoch 5/35\n",
      "1/1 [==============================] - 0s 2ms/step - loss: 2.8620\n",
      "Epoch 6/35\n",
      "1/1 [==============================] - 0s 2ms/step - loss: 1.3249\n",
      "Epoch 7/35\n",
      "1/1 [==============================] - 0s 3ms/step - loss: 0.6134\n",
      "Epoch 8/35\n",
      "1/1 [==============================] - 0s 3ms/step - loss: 0.2842\n",
      "Epoch 9/35\n",
      "1/1 [==============================] - 0s 2ms/step - loss: 0.1318\n",
      "Epoch 10/35\n",
      "1/1 [==============================] - 0s 3ms/step - loss: 0.0612\n",
      "Epoch 11/35\n",
      "1/1 [==============================] - 0s 4ms/step - loss: 0.0286\n",
      "Epoch 12/35\n",
      "1/1 [==============================] - 0s 2ms/step - loss: 0.0135\n",
      "Epoch 13/35\n",
      "1/1 [==============================] - 0s 2ms/step - loss: 0.0065\n",
      "Epoch 14/35\n",
      "1/1 [==============================] - 0s 3ms/step - loss: 0.0032\n",
      "Epoch 15/35\n",
      "1/1 [==============================] - 0s 2ms/step - loss: 0.0017\n",
      "Epoch 16/35\n",
      "1/1 [==============================] - 0s 4ms/step - loss: 0.0010\n",
      "Epoch 17/35\n",
      "1/1 [==============================] - 0s 2ms/step - loss: 7.1699e-04\n",
      "Epoch 18/35\n",
      "1/1 [==============================] - 0s 3ms/step - loss: 5.6527e-04\n",
      "Epoch 19/35\n",
      "1/1 [==============================] - 0s 4ms/step - loss: 4.9335e-04\n",
      "Epoch 20/35\n",
      "1/1 [==============================] - 0s 2ms/step - loss: 4.5837e-04\n",
      "Epoch 21/35\n",
      "1/1 [==============================] - 0s 3ms/step - loss: 4.4051e-04\n",
      "Epoch 22/35\n",
      "1/1 [==============================] - 0s 3ms/step - loss: 4.3058e-04\n",
      "Epoch 23/35\n",
      "1/1 [==============================] - 0s 2ms/step - loss: 4.2433e-04\n",
      "Epoch 24/35\n",
      "1/1 [==============================] - 0s 2ms/step - loss: 4.1980e-04\n",
      "Epoch 25/35\n",
      "1/1 [==============================] - 0s 2ms/step - loss: 4.1607e-04\n",
      "Epoch 26/35\n",
      "1/1 [==============================] - 0s 3ms/step - loss: 4.1273e-04\n",
      "Epoch 27/35\n",
      "1/1 [==============================] - 0s 3ms/step - loss: 4.0958e-04\n",
      "Epoch 28/35\n",
      "1/1 [==============================] - 0s 3ms/step - loss: 4.0653e-04\n",
      "Epoch 29/35\n",
      "1/1 [==============================] - 0s 2ms/step - loss: 4.0354e-04\n",
      "Epoch 30/35\n",
      "1/1 [==============================] - 0s 3ms/step - loss: 4.0059e-04\n",
      "Epoch 31/35\n",
      "1/1 [==============================] - 0s 2ms/step - loss: 3.9766e-04\n",
      "Epoch 32/35\n",
      "1/1 [==============================] - 0s 3ms/step - loss: 3.9476e-04\n",
      "Epoch 33/35\n",
      "1/1 [==============================] - 0s 2ms/step - loss: 3.9188e-04\n",
      "Epoch 34/35\n",
      "1/1 [==============================] - 0s 3ms/step - loss: 3.8903e-04\n",
      "Epoch 35/35\n",
      "1/1 [==============================] - 0s 3ms/step - loss: 3.8619e-04\n",
      "\n",
      " The price for 7 bedroom houses are \n",
      "\n",
      "[4.0283265]\n"
     ]
    }
   ],
   "source": [
    "prediction = house_model([7.0])\n",
    "\n",
    "print('\\n The price for 7 bedroom houses are \\n')\n",
    "print(prediction)"
   ]
  },
  {
   "cell_type": "markdown",
   "metadata": {
    "id": "XUVVREM7BuGU"
   },
   "source": [
    "# We saw it predicted the right amount i.e 400k for 7 bedroom houses"
   ]
  },
  {
   "cell_type": "code",
   "execution_count": null,
   "metadata": {},
   "outputs": [],
   "source": []
  }
 ],
 "metadata": {
  "colab": {
   "collapsed_sections": [],
   "include_colab_link": true,
   "name": "C1_W1_Assignment.ipynb",
   "provenance": []
  },
  "kernelspec": {
   "display_name": "Python 3",
   "language": "python",
   "name": "python3"
  },
  "language_info": {
   "codemirror_mode": {
    "name": "ipython",
    "version": 3
   },
   "file_extension": ".py",
   "mimetype": "text/x-python",
   "name": "python",
   "nbconvert_exporter": "python",
   "pygments_lexer": "ipython3",
   "version": "3.8.8"
  }
 },
 "nbformat": 4,
 "nbformat_minor": 1
}
