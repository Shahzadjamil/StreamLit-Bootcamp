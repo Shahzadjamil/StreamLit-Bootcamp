{
  "nbformat": 4,
  "nbformat_minor": 0,
  "metadata": {
    "accelerator": "GPU",
    "colab": {
      "name": "C2_W4_Assignment_Solution.ipynb",
      "provenance": [],
      "collapsed_sections": [],
      "toc_visible": true
    },
    "kernelspec": {
      "display_name": "Python 3",
      "language": "python",
      "name": "python3"
    },
    "language_info": {
      "codemirror_mode": {
        "name": "ipython",
        "version": 3
      },
      "file_extension": ".py",
      "mimetype": "text/x-python",
      "name": "python",
      "nbconvert_exporter": "python",
      "pygments_lexer": "ipython3",
      "version": "3.8.5"
    }
  },
  "cells": [
    {
      "cell_type": "code",
      "metadata": {
        "id": "zX4Kg8DUTKWO"
      },
      "source": [
        "#@title Licensed under the Apache License, Version 2.0 (the \"License\");\n",
        "# you may not use this file except in compliance with the License.\n",
        "# You may obtain a copy of the License at\n",
        "#\n",
        "# https://www.apache.org/licenses/LICENSE-2.0\n",
        "#\n",
        "# Unless required by applicable law or agreed to in writing, software\n",
        "# distributed under the License is distributed on an \"AS IS\" BASIS,\n",
        "# WITHOUT WARRANTIES OR CONDITIONS OF ANY KIND, either express or implied.\n",
        "# See the License for the specific language governing permissions and\n",
        "# limitations under the License."
      ],
      "execution_count": null,
      "outputs": []
    },
    {
      "cell_type": "markdown",
      "metadata": {
        "id": "Zs0rvDcgHqnV"
      },
      "source": [
        "**IMPORTANT NOTE:** This notebook is designed to run as a Colab. Click the button on top that says, `Open in Colab`, to run this notebook as a Colab. Running the notebook on your local machine might result in some of the code blocks throwing errors."
      ]
    },
    {
      "cell_type": "code",
      "metadata": {
        "id": "wYtuKeK0dImp"
      },
      "source": [
        "import csv\n",
        "import numpy as np\n",
        "import tensorflow as tf\n",
        "from tensorflow.keras.preprocessing.image import ImageDataGenerator\n",
        "from google.colab import files"
      ],
      "execution_count": 14,
      "outputs": []
    },
    {
      "cell_type": "code",
      "metadata": {
        "id": "4kxw-_rmcnVu",
        "outputId": "e8287a36-ba87-4de0-d3a7-6e1ef7d8773c",
        "colab": {
          "base_uri": "https://localhost:8080/"
        }
      },
      "source": [
        "# sign_mnist_train.csv\n",
        "!gdown --id 1z0DkA9BytlLxO1C0BAWzknLyQmZAp0HR\n",
        "# sign_mnist_test.csv\n",
        "!gdown --id 1z1BIj4qmri59GWBG4ivMNFtpZ4AXIbzg\n",
        "\n",
        "def get_data(filename):\n",
        "  # You will need to write code that will read the file passed\n",
        "  # into this function. The first line contains the column headers\n",
        "  # so you should ignore it\n",
        "  # Each successive line contians 785 comma separated values between 0 and 255\n",
        "  # The first value is the label\n",
        "  # The rest are the pixel values for that picture\n",
        "  # The function will return 2 np.array types. One with all the labels\n",
        "  # One with all the images\n",
        "  #\n",
        "  # Tips: \n",
        "  # If you read a full line (as 'row') then row[0] has the label\n",
        "  # and row[1:785] has the 784 pixel values\n",
        "  # Take a look at np.array_split to turn the 784 pixels into 28x28\n",
        "  # You are reading in strings, but need the values to be floats\n",
        "  # Check out np.array().astype for a conversion  \n",
        "    with open(filename) as training_file: \n",
        "        csv_reader = csv.reader(training_file, delimiter=',')\n",
        "        first_line = True\n",
        "        temp_images = []\n",
        "        temp_labels = []\n",
        "        for row in csv_reader:\n",
        "            if first_line:\n",
        "                # print(\"Ignoring first line\")\n",
        "                first_line = False\n",
        "            else:\n",
        "                temp_labels.append(row[0])\n",
        "                image_data = row[1:785]\n",
        "                image_data_as_array = np.array_split(image_data, 28)\n",
        "                temp_images.append(image_data_as_array)\n",
        "        images = np.array(temp_images).astype('float')\n",
        "        labels = np.array(temp_labels).astype('float')\n",
        "    return images, labels\n",
        "\n",
        "\n",
        "training_images, training_labels = get_data('./sign_mnist_train.csv')\n",
        "testing_images, testing_labels = get_data('./sign_mnist_test.csv')\n",
        "\n",
        "print(training_images.shape)\n",
        "print(training_labels.shape)\n",
        "print(testing_images.shape)\n",
        "print(testing_labels.shape)\n",
        "\n",
        "# Their output should be:\n",
        "# (27455, 28, 28)\n",
        "# (27455,)\n",
        "# (7172, 28, 28)\n",
        "# (7172,)"
      ],
      "execution_count": 35,
      "outputs": [
        {
          "output_type": "stream",
          "name": "stdout",
          "text": [
            "Downloading...\n",
            "From: https://drive.google.com/uc?id=1z0DkA9BytlLxO1C0BAWzknLyQmZAp0HR\n",
            "To: /content/sign_mnist_train.csv\n",
            "100% 83.3M/83.3M [00:00<00:00, 115MB/s] \n",
            "Downloading...\n",
            "From: https://drive.google.com/uc?id=1z1BIj4qmri59GWBG4ivMNFtpZ4AXIbzg\n",
            "To: /content/sign_mnist_test.csv\n",
            "100% 21.8M/21.8M [00:00<00:00, 101MB/s] \n",
            "(27455, 28, 28)\n",
            "(27455,)\n",
            "(7172, 28, 28)\n",
            "(7172,)\n"
          ]
        }
      ]
    },
    {
      "cell_type": "code",
      "metadata": {
        "id": "awoqRpyZdQkD",
        "outputId": "383ac358-eeb0-4fea-a266-a3df305604ce",
        "colab": {
          "base_uri": "https://localhost:8080/"
        }
      },
      "source": [
        "# In this section you will have to add another dimension to the data\n",
        "# So, for example, if your array is (10000, 28, 28)\n",
        "# You will need to make it (10000, 28, 28, 1)\n",
        "# Hint: np.expand_dims\n",
        "\n",
        "training_images = np.expand_dims(training_images, axis=3) \n",
        "testing_images = np.expand_dims(testing_images, axis=3) \n",
        "\n",
        "train_datagen = ImageDataGenerator(rescale=1. / 255,rotation_range=40,width_shift_range=0.2,height_shift_range=0.2,shear_range=0.2,zoom_range=0.2,horizontal_flip=True,fill_mode='nearest')\n",
        "\n",
        "\n",
        "validation_datagen = ImageDataGenerator(rescale=1. / 255)\n",
        "\n",
        "# Keep These\n",
        "print(training_images.shape)\n",
        "print(testing_images.shape)\n",
        "    \n",
        "# Their output should be:\n",
        "# (27455, 28, 28, 1)\n",
        "# (7172, 28, 28, 1)"
      ],
      "execution_count": 36,
      "outputs": [
        {
          "output_type": "stream",
          "name": "stdout",
          "text": [
            "(27455, 28, 28, 1)\n",
            "(7172, 28, 28, 1)\n"
          ]
        }
      ]
    },
    {
      "cell_type": "code",
      "metadata": {
        "id": "Rmb7S32cgRqS",
        "outputId": "8157ac09-dd1e-4e1e-ae69-94591fa2bd13",
        "colab": {
          "base_uri": "https://localhost:8080/"
        }
      },
      "source": [
        "# Define the model\n",
        "# Use no more than 2 Conv2D and 2 MaxPooling2D\n",
        "model = tf.keras.models.Sequential([                              \n",
        "    tf.keras.layers.Conv2D(64, (3, 3), activation='relu', input_shape=(28, 28, 1)),\n",
        "    tf.keras.layers.MaxPooling2D(2, 2),\n",
        "    tf.keras.layers.Conv2D(64, (3, 3), activation='relu'),\n",
        "    tf.keras.layers.MaxPooling2D(2, 2),\n",
        "    tf.keras.layers.Flatten(),\n",
        "    tf.keras.layers.Dense(64, activation=tf.nn.relu),\n",
        "    tf.keras.layers.Dense(26, activation=tf.nn.softmax)])\n",
        "\n",
        "model.compile(optimizer = tf.optimizers.Adam(), \n",
        "              loss = 'sparse_categorical_crossentropy',\n",
        "              metrics=['accuracy'])\n",
        "\n",
        "history = model.fit(train_datagen.flow(training_images, training_labels, batch_size=32), \n",
        "                              steps_per_epoch=len(training_images) / 32,\n",
        "                              epochs=22,\n",
        "                              validation_data=validation_datagen.flow(testing_images, testing_labels, batch_size=32),\n",
        "                              validation_steps=len(testing_images) / 32)\n",
        "\n",
        "model.evaluate(testing_images, testing_labels)\n",
        "\n",
        "# The output from model.evaluate should be close to:\n",
        "# [6.92426086682151, 0.56609035]\n"
      ],
      "execution_count": 37,
      "outputs": [
        {
          "output_type": "stream",
          "name": "stdout",
          "text": [
            "Epoch 1/22\n",
            "857/857 [==============================] - 18s 20ms/step - loss: 2.9440 - accuracy: 0.1130 - val_loss: 2.3275 - val_accuracy: 0.2387\n",
            "Epoch 2/22\n",
            "857/857 [==============================] - 17s 20ms/step - loss: 2.3744 - accuracy: 0.2478 - val_loss: 2.0503 - val_accuracy: 0.3203\n",
            "Epoch 3/22\n",
            "857/857 [==============================] - 17s 20ms/step - loss: 2.0553 - accuracy: 0.3467 - val_loss: 1.6009 - val_accuracy: 0.4618\n",
            "Epoch 4/22\n",
            "857/857 [==============================] - 17s 20ms/step - loss: 1.8063 - accuracy: 0.4269 - val_loss: 1.4060 - val_accuracy: 0.5457\n",
            "Epoch 5/22\n",
            "857/857 [==============================] - 17s 19ms/step - loss: 1.6183 - accuracy: 0.4770 - val_loss: 1.0864 - val_accuracy: 0.6320\n",
            "Epoch 6/22\n",
            "857/857 [==============================] - 17s 19ms/step - loss: 1.4849 - accuracy: 0.5132 - val_loss: 0.9163 - val_accuracy: 0.6985\n",
            "Epoch 7/22\n",
            "857/857 [==============================] - 17s 19ms/step - loss: 1.3921 - accuracy: 0.5476 - val_loss: 0.8841 - val_accuracy: 0.6899\n",
            "Epoch 8/22\n",
            "857/857 [==============================] - 17s 19ms/step - loss: 1.2961 - accuracy: 0.5776 - val_loss: 0.9541 - val_accuracy: 0.6424\n",
            "Epoch 9/22\n",
            "857/857 [==============================] - 17s 20ms/step - loss: 1.2407 - accuracy: 0.5933 - val_loss: 0.7187 - val_accuracy: 0.7397\n",
            "Epoch 10/22\n",
            "857/857 [==============================] - 17s 20ms/step - loss: 1.2006 - accuracy: 0.6048 - val_loss: 0.6981 - val_accuracy: 0.7570\n",
            "Epoch 11/22\n",
            "857/857 [==============================] - 17s 20ms/step - loss: 1.1493 - accuracy: 0.6178 - val_loss: 0.6987 - val_accuracy: 0.7546\n",
            "Epoch 12/22\n",
            "857/857 [==============================] - 17s 20ms/step - loss: 1.0849 - accuracy: 0.6444 - val_loss: 0.6335 - val_accuracy: 0.7775\n",
            "Epoch 13/22\n",
            "857/857 [==============================] - 17s 20ms/step - loss: 1.0611 - accuracy: 0.6512 - val_loss: 0.6625 - val_accuracy: 0.7644\n",
            "Epoch 14/22\n",
            "857/857 [==============================] - 17s 20ms/step - loss: 1.0273 - accuracy: 0.6590 - val_loss: 0.6148 - val_accuracy: 0.7759\n",
            "Epoch 15/22\n",
            "857/857 [==============================] - 17s 20ms/step - loss: 1.0042 - accuracy: 0.6691 - val_loss: 0.5573 - val_accuracy: 0.8058\n",
            "Epoch 16/22\n",
            "857/857 [==============================] - 17s 20ms/step - loss: 0.9701 - accuracy: 0.6775 - val_loss: 0.5231 - val_accuracy: 0.7985\n",
            "Epoch 17/22\n",
            "857/857 [==============================] - 17s 20ms/step - loss: 0.9462 - accuracy: 0.6850 - val_loss: 0.5294 - val_accuracy: 0.8030\n",
            "Epoch 18/22\n",
            "857/857 [==============================] - 17s 20ms/step - loss: 0.9348 - accuracy: 0.6858 - val_loss: 0.5114 - val_accuracy: 0.8179\n",
            "Epoch 19/22\n",
            "857/857 [==============================] - 17s 20ms/step - loss: 0.9040 - accuracy: 0.6987 - val_loss: 0.5192 - val_accuracy: 0.8224\n",
            "Epoch 20/22\n",
            "857/857 [==============================] - 17s 20ms/step - loss: 0.8791 - accuracy: 0.7064 - val_loss: 0.4841 - val_accuracy: 0.8284\n",
            "Epoch 21/22\n",
            "857/857 [==============================] - 17s 20ms/step - loss: 0.8642 - accuracy: 0.7111 - val_loss: 0.4587 - val_accuracy: 0.8224\n",
            "Epoch 22/22\n",
            "857/857 [==============================] - 17s 20ms/step - loss: 0.8568 - accuracy: 0.7131 - val_loss: 0.4577 - val_accuracy: 0.8380\n",
            "225/225 [==============================] - 1s 5ms/step - loss: 526.8279 - accuracy: 0.4438\n"
          ]
        },
        {
          "output_type": "execute_result",
          "data": {
            "text/plain": [
              "[526.827880859375, 0.44380927085876465]"
            ]
          },
          "metadata": {},
          "execution_count": 37
        }
      ]
    },
    {
      "cell_type": "code",
      "metadata": {
        "id": "_Q3Zpr46dsij",
        "outputId": "70806fab-476e-4641-f82c-bf7e1c79544b",
        "colab": {
          "base_uri": "https://localhost:8080/",
          "height": 545
        }
      },
      "source": [
        "# Plot the chart for accuracy and loss on both training and validation\n",
        "\n",
        "import matplotlib.pyplot as plt\n",
        "acc = history.history['accuracy'] \n",
        "val_acc = history.history['val_accuracy'] \n",
        "loss = history.history['loss'] \n",
        "val_loss = history.history['val_loss'] \n",
        "\n",
        "epochs = range(len(acc))\n",
        "\n",
        "plt.plot(epochs, acc, 'r', label='Training accuracy')\n",
        "plt.plot(epochs, val_acc, 'b', label='Validation accuracy')\n",
        "plt.title('Training and validation accuracy')\n",
        "plt.legend()\n",
        "plt.figure()\n",
        "\n",
        "plt.plot(epochs, loss, 'r', label='Training Loss')\n",
        "plt.plot(epochs, val_loss, 'b', label='Validation Loss')\n",
        "plt.title('Training and validation loss')\n",
        "plt.legend()\n",
        "\n",
        "plt.show()"
      ],
      "execution_count": 38,
      "outputs": [
        {
          "output_type": "display_data",
          "data": {
            "image/png": "[encoded data removed]",
            "text/plain": [
              "<Figure size 432x288 with 1 Axes>"
            ]
          },
          "metadata": {
            "needs_background": "light"
          }
        },
        {
          "output_type": "display_data",
          "data": {
            "image/png": "[encoded data removed]",
            "text/plain": [
              "<Figure size 432x288 with 1 Axes>"
            ]
          },
          "metadata": {
            "needs_background": "light"
          }
        }
      ]
    },
    {
      "cell_type": "code",
      "metadata": {
        "id": "KjhVE03l2Xlr"
      },
      "source": [
        ""
      ],
      "execution_count": 38,
      "outputs": []
    }
  ]
}